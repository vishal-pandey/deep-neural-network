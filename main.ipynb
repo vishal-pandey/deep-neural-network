{
 "cells": [
  {
   "cell_type": "code",
   "execution_count": 1,
   "metadata": {},
   "outputs": [],
   "source": [
    "import numpy as np"
   ]
  },
  {
   "cell_type": "code",
   "execution_count": 2,
   "metadata": {},
   "outputs": [],
   "source": [
    "mnist = np.load('mnist.npz')\n",
    "images = mnist['x_train'][:60000]\n",
    "labels = mnist['y_train'][:60000]\n",
    "\n",
    "\n",
    "images = np.asarray([e.flatten()/255 for e in images])\n",
    "images = images.reshape(images.shape[0], images.shape[1], 1)\n",
    "\n",
    "from sklearn.preprocessing import OneHotEncoder\n",
    "enc = OneHotEncoder(categories='auto')\n",
    "labels = enc.fit_transform(labels.reshape(-1, 1)).toarray()\n",
    "labels = labels.reshape(labels.shape[0], labels.shape[1], 1)\n",
    "\n",
    "\n",
    "\n",
    "images_test = mnist['x_test'][:]\n",
    "labels_test = mnist['y_test'][:]\n",
    "\n",
    "\n",
    "images_test = np.asarray([e.flatten()/255 for e in images_test])\n",
    "images_test = images_test.reshape(images_test.shape[0], images_test.shape[1], 1)\n",
    "\n",
    "enc_test = OneHotEncoder(categories='auto')\n",
    "labels_test = enc_test.fit_transform(labels_test.reshape(-1, 1)).toarray()\n",
    "labels_test = labels_test.reshape(labels_test.shape[0], labels_test.shape[1], 1)\n"
   ]
  },
  {
   "cell_type": "code",
   "execution_count": 3,
   "metadata": {},
   "outputs": [],
   "source": [
    "class Network():\n",
    "    inputshape = 0\n",
    "    learning_rate = 0\n",
    "    \n",
    "    weight = []\n",
    "    bias = []\n",
    "    \n",
    "    def __init__(self, inputshape, learning_rate=0.05):\n",
    "        self.inputshape = inputshape\n",
    "        self.learning_rate = learning_rate\n",
    "        \n",
    "    def getInputShape(self):\n",
    "        if len(self.weight) == 0:\n",
    "            return self.inputshape\n",
    "        else:\n",
    "            return self.weight[-1].shape[0]\n",
    "    \n",
    "    def addLayer(self, neurons):\n",
    "        ishape = self.getInputShape()\n",
    "        self.weight.append(np.random.randn(neurons, ishape) * 0.1)\n",
    "        self.bias.append(np.random.randn(neurons, 1) * 0.1)\n",
    "    \n",
    "    def sigmoid(self, x):\n",
    "        return 1 / (1 + np.power(np.e, -x) )\n",
    "    \n",
    "    def sigmoid_derivative(self, x):\n",
    "        return self.sigmoid(x) * (1 - self.sigmoid(x))\n",
    "    \n",
    "    def forward(self, ip):\n",
    "        activations = []\n",
    "        activations.append(ip)\n",
    "        sigmoid_derivatives = []\n",
    "        \n",
    "        for i in range(len(self.weight)):\n",
    "            z = self.weight[i] @ activations[i] + self.bias[i]\n",
    "            a = self.sigmoid(z)\n",
    "            sd = self.sigmoid_derivative(z)\n",
    "            activations.append(a)\n",
    "            sigmoid_derivatives.append(sd)\n",
    "\n",
    "        return activations, sigmoid_derivatives\n",
    "    \n",
    "    def backward(self, activations, sigmoid_derivatives, label):\n",
    "        das = []\n",
    "        das.append(2 * (activations[-1] - label))\n",
    "        \n",
    "        for i in range(len(self.weight)):\n",
    "            dz = das[i] * sigmoid_derivatives[-i-1]\n",
    "            dw = dz @ activations[-i-2].transpose()\n",
    "            db = dz\n",
    "            das.append(self.weight[-i-1].transpose() @ dz)\n",
    "            \n",
    "            self.weight[-i-1] -= self.learning_rate * dw\n",
    "            self.bias[-i-1] -= self.learning_rate * db\n",
    "            \n",
    "\n",
    "    def fit(self, ips, labels, epoch = 1):\n",
    "        if len(ips) == len(labels):\n",
    "            for e in range(epoch):\n",
    "                print(\"Epoch \", e+1)\n",
    "                for i in range(len(ips)):\n",
    "                    ip = ips[i]\n",
    "                    label = labels[i]\n",
    "\n",
    "                    # Forward Pass\n",
    "                    activations, sigmoid_derivatives = self.forward(ip)\n",
    "                    # Backward Pass and weight update\n",
    "                    self.backward(activations, sigmoid_derivatives, label)\n",
    "                    \n",
    "                    print(str(int(((i+1) / len(ips)) * 100))+\" % Trained\", end=\"\\r\")\n",
    "                print()\n",
    "\n",
    "    def predict(self, ips, labels):\n",
    "        c = 0\n",
    "        for i in range(len(ips)):\n",
    "            ip = ips[i]\n",
    "            act, _ = self.forward(ip)\n",
    "            \n",
    "            op = np.argmax(act[-1])\n",
    "            label = np.argmax(labels[i])\n",
    "            \n",
    "            if op == label:\n",
    "                c += 1\n",
    "            \n",
    "        return c/len(ips) * 100\n",
    "        "
   ]
  },
  {
   "cell_type": "code",
   "execution_count": 4,
   "metadata": {},
   "outputs": [],
   "source": [
    "n = Network(784)"
   ]
  },
  {
   "cell_type": "code",
   "execution_count": 5,
   "metadata": {},
   "outputs": [],
   "source": [
    "n.addLayer(128)\n",
    "n.addLayer(64)\n",
    "n.addLayer(10)"
   ]
  },
  {
   "cell_type": "code",
   "execution_count": 6,
   "metadata": {},
   "outputs": [
    {
     "name": "stdout",
     "output_type": "stream",
     "text": [
      "Epoch  1\n",
      "100 % Trained\n",
      "Epoch  2\n",
      "100 % Trained\n",
      "Epoch  3\n",
      "100 % Trained\n",
      "Epoch  4\n",
      "100 % Trained\n",
      "Epoch  5\n",
      "100 % Trained\n"
     ]
    }
   ],
   "source": [
    "n.fit(images, labels, epoch=5)"
   ]
  },
  {
   "cell_type": "code",
   "execution_count": 7,
   "metadata": {},
   "outputs": [
    {
     "data": {
      "text/plain": [
       "97.86"
      ]
     },
     "execution_count": 7,
     "metadata": {},
     "output_type": "execute_result"
    }
   ],
   "source": [
    "# Training accuracy\n",
    "n.predict(images, labels)"
   ]
  },
  {
   "cell_type": "code",
   "execution_count": 8,
   "metadata": {},
   "outputs": [
    {
     "data": {
      "text/plain": [
       "96.99"
      ]
     },
     "execution_count": 8,
     "metadata": {},
     "output_type": "execute_result"
    }
   ],
   "source": [
    "# Testing accuracy\n",
    "n.predict(images_test, labels_test)"
   ]
  },
  {
   "cell_type": "code",
   "execution_count": null,
   "metadata": {},
   "outputs": [],
   "source": []
  }
 ],
 "metadata": {
  "kernelspec": {
   "display_name": "Python 3",
   "language": "python",
   "name": "python3"
  },
  "language_info": {
   "codemirror_mode": {
    "name": "ipython",
    "version": 3
   },
   "file_extension": ".py",
   "mimetype": "text/x-python",
   "name": "python",
   "nbconvert_exporter": "python",
   "pygments_lexer": "ipython3",
   "version": "3.7.1"
  }
 },
 "nbformat": 4,
 "nbformat_minor": 2
}
